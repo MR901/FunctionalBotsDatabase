{
 "cells": [
  {
   "cell_type": "code",
   "execution_count": null,
   "metadata": {},
   "outputs": [],
   "source": [
    "from selenium import webdriver\n",
    "from selenium.common.exceptions import TimeoutException\n",
    "from selenium.webdriver.support.ui import WebDriverWait # available since 2.4.0\n",
    "from selenium.webdriver.support import expected_conditions as EC # available since 2.26.0\n",
    "from selenium.webdriver.firefox.firefox_binary import FirefoxBinary\n",
    "import execjs\n",
    "import time\n",
    "'''\n",
    "from pyvirtualdisplay import Display\n",
    "display = Display(visible=0, size=(800, 800))  \n",
    "display.start()\n",
    "'''\n",
    "options = webdriver.ChromeOptions()\n",
    "options.add_argument('--no-sandbox')\n",
    "options.add_argument('--disable-dev-shm-usage')\n",
    "#binary='/usr/bin/firefox'\n",
    "options.add_argument('--ignore-certificate-errors')\n",
    "options.add_argument(\"--test-type\")\n",
    "# Create a new instance of the Firefox driver\n",
    "#driver = webdriver.Firefox(binary)\n",
    "\n",
    "binary = '/usr/bin/chromedriver'\n",
    "driver =  webdriver.Chrome(binary,chrome_options = options)\n",
    "\n",
    "# go to the google home page\n",
    "driver.get(\"https://www.cardekho.com/used-cars+in+ahmedabad\")\n",
    "\n",
    "driver_text = driver.find_elements_by_tag_name(\"input\")\n",
    "time.sleep(20)\n",
    "for i in range(0,len(driver_text)):\n",
    "    try:\n",
    "        #print driver[i]\n",
    "        driver_text[i].send_keys(\"rahul\") \n",
    "        \n",
    "    except Exception as e :\n",
    "        print e\n",
    "driver_se = driver.find_element_by_css_selector(\"button[type = submit]\")   \n",
    "driver_se.click()\n",
    "time.sleep(2)\n",
    "\n",
    "time.sleep(2)\n",
    "for i in range(0,5):\n",
    "    try:\n",
    "        time.sleep(1)\n",
    "        result =  driver.execute_script(\"window.scrollTo(0, document.body.scrollHeight)\")\n",
    "    except Exception as e :\n",
    "        print e\n",
    "print result"
   ]
  },
  {
   "cell_type": "code",
   "execution_count": null,
   "metadata": {},
   "outputs": [],
   "source": [
    "print driver_se"
   ]
  }
 ],
 "metadata": {
  "kernelspec": {
   "display_name": "Python 2",
   "language": "python",
   "name": "python2"
  },
  "language_info": {
   "codemirror_mode": {
    "name": "ipython",
    "version": 2
   },
   "file_extension": ".py",
   "mimetype": "text/x-python",
   "name": "python",
   "nbconvert_exporter": "python",
   "pygments_lexer": "ipython2",
   "version": "2.7.15"
  }
 },
 "nbformat": 4,
 "nbformat_minor": 2
}
